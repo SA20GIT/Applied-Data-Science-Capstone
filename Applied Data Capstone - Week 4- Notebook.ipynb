{
 "cells": [
  {
   "cell_type": "markdown",
   "metadata": {},
   "source": [
    "## 1. A description of the problem and a discussion of the background.(15 marks)"
   ]
  },
  {
   "cell_type": "markdown",
   "metadata": {},
   "source": [
    "#### The problem to be addressed was inspired by the suggestion given in the course assignment description. Opening a business in an area already served or overserved by a particular business is a much more difficult endeavor. This approach assumes some guidance may be obtained by comparing neighborhoods with similar incomes and population, and population density. By choosing a specific zip code to investigate, a business profile of the area can be determined and compared to other zip codes with similar population and income. This approach also assumes that local tastes and customs are similar. Using data from Foursqaure, the census, and another site on the web, an analysis of neighborhoods based on zip codes will be used to suggest what type of businesses may be underserved in a particular area defined by the zip code. The assumption will be made that a a zip code with the same median and average income and number of people, within some predefined range, would require similar business profiles. Using the median and average income by zip code from census data, two areas will be compared to determine the similarities and differences in businesses operating in each area and provide recommendations on what type of businesses might be needed in that particular zip code."
   ]
  },
  {
   "cell_type": "markdown",
   "metadata": {},
   "source": [
    "##  2.\tA description of the data and how it will be used to solve the problem. (15 marks)"
   ]
  },
  {
   "cell_type": "markdown",
   "metadata": {},
   "source": [
    "### The data to be used will consist of the following:\n",
    "* Census data on median and average income by zip code from 2018\n",
    "* Zip code latitude and longitude location data \n",
    "* Foursquare data on businesses in various zip codes\n",
    "\n",
    "### Census data:  \n",
    "##### This will be used to determine the population, population density, median income and average income in the zip code area of interest.\n",
    "\n",
    "### Zip code latitude and longitude: \n",
    "##### This will be as input to Foursquare to find the businesses in a particular area.\n",
    " \n",
    "### Foursquare data:  \n",
    "##### Foursquare  will be queried and the data will be used to generate the business profile around a particular zip code.\n"
   ]
  },
  {
   "cell_type": "code",
   "execution_count": null,
   "metadata": {},
   "outputs": [],
   "source": []
  }
 ],
 "metadata": {
  "kernelspec": {
   "display_name": "Python 3",
   "language": "python",
   "name": "python3"
  },
  "language_info": {
   "codemirror_mode": {
    "name": "ipython",
    "version": 3
   },
   "file_extension": ".py",
   "mimetype": "text/x-python",
   "name": "python",
   "nbconvert_exporter": "python",
   "pygments_lexer": "ipython3",
   "version": "3.7.4"
  }
 },
 "nbformat": 4,
 "nbformat_minor": 2
}
