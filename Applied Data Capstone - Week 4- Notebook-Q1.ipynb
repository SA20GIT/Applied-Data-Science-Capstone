{
 "cells": [
  {
   "cell_type": "markdown",
   "metadata": {},
   "source": [
    "## 1. A description of the problem and a discussion of the background.(15 marks)\n",
    "\n",
    "#### The problem to be addressed was inspired by the suggestion given in the course assignment description.\n",
    "\n",
    "#### Motivation: Opening a business in an area already served or overserved by a particular business is a much more difficult endeavor.  By choosing a specific zip code to investigate, a business profile of the area can be determined and compared to other zip codes with similar population and income. This approach assumes some guidance may be obtained by comparing neighborhoods with similar incomes and population, and population density. This approach also assumes that local tastes and customs are similar.  \n",
    "\n",
    "#### Targeted User/Audience: The intended user of this analysis would be an entity interested in opening a new business in a particular zip code.  It could be used to see if that zip code location already has a typical number of those businesses, or look for a business sector that may be underserved in that zip code. This could be used by someone wanting to start a business on their own, people looking to start a franchise, or by a larger business entity looking to expand.\n",
    "\n",
    "#### Using the data from Foursqaure, the census, and another site on the web giving the latitude and longitude of a zip code, an analysis of neighborhoods based on zip codes will be used to suggest what type of businesses may be underserved in a particular area defined by the zip code.  The assumption will be made that a a zip code with the same median and average income and number of people, within some predefined range, would require similar business profiles.  Using the median and average income by zip code from census data, two areas will be compared to determine the similarities and differences in businesses operating in each area and provide recommendations on what type of businesses might be needed in that particular zip code.\n"
   ]
  },
  {
   "cell_type": "code",
   "execution_count": null,
   "metadata": {},
   "outputs": [],
   "source": []
  }
 ],
 "metadata": {
  "kernelspec": {
   "display_name": "Python 3",
   "language": "python",
   "name": "python3"
  },
  "language_info": {
   "codemirror_mode": {
    "name": "ipython",
    "version": 3
   },
   "file_extension": ".py",
   "mimetype": "text/x-python",
   "name": "python",
   "nbconvert_exporter": "python",
   "pygments_lexer": "ipython3",
   "version": "3.7.4"
  }
 },
 "nbformat": 4,
 "nbformat_minor": 2
}
