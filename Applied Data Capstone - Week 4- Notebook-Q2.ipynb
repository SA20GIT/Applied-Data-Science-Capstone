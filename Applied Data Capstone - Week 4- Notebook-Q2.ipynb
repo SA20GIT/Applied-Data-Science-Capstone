{
 "cells": [
  {
   "cell_type": "markdown",
   "metadata": {},
   "source": [
    "##  2.\tA description of the data and how it will be used to solve the problem. (15 marks)"
   ]
  },
  {
   "cell_type": "markdown",
   "metadata": {},
   "source": [
    "### The data to be used will consist of the following:\n",
    "* Census data on median and average income by zip code from 2018\n",
    "* Zip code latitude and longitude location data \n",
    "* Foursquare data on businesses in various zip codes\n",
    "* Folium Map data (Possibly)\n",
    "\n",
    "### Census data by zip code:  \n",
    "##### This will be used to determine the population, population density, median income and average income in the zip code area of interest. This data will be used to determine areas for comparison to the zip code(s) of interest.\n",
    "\n",
    "### Zip code latitude and longitude: \n",
    "##### The lattitude and longitude values for each zip code will be found on the web and scraped or downloaded to a csv file.  The csv file will be loaded into a data frame. This will be used as input to Foursquare to find the businesses in a particular area.\n",
    " \n",
    "### Foursquare data:  \n",
    "##### Foursquare  will be queried and the data will be used to generate the business profile around a particular zip code.  This will be performed by using JSON to get the relevant parts of the data returned by the Foursquare query\n",
    "\n",
    "### Folium Map data: (Possibly)\n",
    "#### Folium Map data may be used to display on a map the locations of businesses considered similar to the query for the zip code in question\n"
   ]
  },
  {
   "cell_type": "code",
   "execution_count": null,
   "metadata": {},
   "outputs": [],
   "source": []
  }
 ],
 "metadata": {
  "kernelspec": {
   "display_name": "Python 3",
   "language": "python",
   "name": "python3"
  },
  "language_info": {
   "codemirror_mode": {
    "name": "ipython",
    "version": 3
   },
   "file_extension": ".py",
   "mimetype": "text/x-python",
   "name": "python",
   "nbconvert_exporter": "python",
   "pygments_lexer": "ipython3",
   "version": "3.7.4"
  }
 },
 "nbformat": 4,
 "nbformat_minor": 2
}
